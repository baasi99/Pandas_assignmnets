{
 "cells": [
  {
   "cell_type": "code",
   "execution_count": 1,
   "id": "3d43b2a0-155e-4a13-817f-1c335c190d10",
   "metadata": {},
   "outputs": [],
   "source": [
    "import pandas as pd"
   ]
  },
  {
   "cell_type": "code",
   "execution_count": 18,
   "id": "d3c85422-9f2d-49d3-a75f-3f2fd67fe334",
   "metadata": {},
   "outputs": [],
   "source": [
    "data=pd.read_csv(r\"C:/Users/HP/survey_results.csv\")"
   ]
  },
  {
   "cell_type": "markdown",
   "id": "56150fe5-1afe-43d4-9b81-69aa7b7e1153",
   "metadata": {},
   "source": [
    "### Q1.SAARC members are there in the dataset"
   ]
  },
  {
   "cell_type": "code",
   "execution_count": 20,
   "id": "dd63c3dc-42eb-4572-b959-411295006668",
   "metadata": {},
   "outputs": [],
   "source": [
    "a=['Sri Lanka','Pakistan','Nepal','Maldives','India','Bhutan','Bangladesh','Afghanistan']"
   ]
  },
  {
   "cell_type": "code",
   "execution_count": 32,
   "id": "cf2996af-b5f3-4de1-9e49-1ef566b2db8c",
   "metadata": {},
   "outputs": [],
   "source": [
    "dataa=data.loc[data['Country'].isin(a),'Country']"
   ]
  },
  {
   "cell_type": "code",
   "execution_count": 43,
   "id": "f4ddddda-1d78-4e09-b18a-fc185682f9c3",
   "metadata": {},
   "outputs": [
    {
     "data": {
      "text/plain": [
       "7             India\n",
       "9             India\n",
       "14            India\n",
       "33        Sri Lanka\n",
       "41       Bangladesh\n",
       "            ...    \n",
       "88834    Bangladesh\n",
       "88852         India\n",
       "88853         India\n",
       "88864         India\n",
       "88875      Pakistan\n",
       "Name: Country, Length: 11257, dtype: object"
      ]
     },
     "execution_count": 43,
     "metadata": {},
     "output_type": "execute_result"
    }
   ],
   "source": [
    "dataa"
   ]
  },
  {
   "cell_type": "code",
   "execution_count": 38,
   "id": "77a72fe0-cffb-49a9-9692-8a3dbd1f551f",
   "metadata": {},
   "outputs": [
    {
     "data": {
      "text/plain": [
       "array(['India', 'Sri Lanka', 'Bangladesh', 'Pakistan', 'Nepal',\n",
       "       'Afghanistan', 'Maldives', 'Bhutan'], dtype=object)"
      ]
     },
     "execution_count": 38,
     "metadata": {},
     "output_type": "execute_result"
    }
   ],
   "source": [
    "data1.unique()"
   ]
  },
  {
   "cell_type": "markdown",
   "id": "2ade2f2a-5b6c-4923-9575-9eb1362f14bc",
   "metadata": {},
   "source": [
    "### Q1.OPEC 5 members in the dataset"
   ]
  },
  {
   "cell_type": "code",
   "execution_count": 41,
   "id": "b295b641-fcdf-4c5b-851c-d6bf2329ca4c",
   "metadata": {},
   "outputs": [],
   "source": [
    "data2=['Saudi Arabia','Nigeria','United Arab Emarites','Iraq','Iran']"
   ]
  },
  {
   "cell_type": "code",
   "execution_count": 53,
   "id": "ef7c832c-ed42-4226-808e-46127069df56",
   "metadata": {},
   "outputs": [],
   "source": [
    "data3=data.loc[data['Country'].isin(data2),'Country']"
   ]
  },
  {
   "cell_type": "code",
   "execution_count": 55,
   "id": "c660f266-6d1b-4ec5-b1ec-84446cd1003d",
   "metadata": {},
   "outputs": [
    {
     "data": {
      "text/plain": [
       "161              Iran\n",
       "203           Nigeria\n",
       "346           Nigeria\n",
       "363           Nigeria\n",
       "443              Iran\n",
       "             ...     \n",
       "88672            Iraq\n",
       "88700    Saudi Arabia\n",
       "88807         Nigeria\n",
       "88823         Nigeria\n",
       "88867         Nigeria\n",
       "Name: Country, Length: 1397, dtype: object"
      ]
     },
     "execution_count": 55,
     "metadata": {},
     "output_type": "execute_result"
    }
   ],
   "source": [
    "data3"
   ]
  },
  {
   "cell_type": "code",
   "execution_count": 57,
   "id": "ae13b070-21c7-4cb0-b547-2b8cb1ade7bc",
   "metadata": {},
   "outputs": [
    {
     "data": {
      "text/plain": [
       "array(['Iran', 'Nigeria', 'Saudi Arabia', 'Iraq'], dtype=object)"
      ]
     },
     "execution_count": 57,
     "metadata": {},
     "output_type": "execute_result"
    }
   ],
   "source": [
    "data3.unique()"
   ]
  },
  {
   "cell_type": "code",
   "execution_count": null,
   "id": "9c960cb1-3ccf-4356-861c-39971a854917",
   "metadata": {},
   "outputs": [],
   "source": []
  }
 ],
 "metadata": {
  "kernelspec": {
   "display_name": "Python 3 (ipykernel)",
   "language": "python",
   "name": "python3"
  },
  "language_info": {
   "codemirror_mode": {
    "name": "ipython",
    "version": 3
   },
   "file_extension": ".py",
   "mimetype": "text/x-python",
   "name": "python",
   "nbconvert_exporter": "python",
   "pygments_lexer": "ipython3",
   "version": "3.12.4"
  }
 },
 "nbformat": 4,
 "nbformat_minor": 5
}
